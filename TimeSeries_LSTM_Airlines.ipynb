{
  "nbformat": 4,
  "nbformat_minor": 0,
  "metadata": {
    "colab": {
      "name": "TimeSeries_LSTM_Airlines.ipynb",
      "provenance": [],
      "authorship_tag": "ABX9TyPwxlY4vMtRVku/eG1SmyXL",
      "include_colab_link": true
    },
    "kernelspec": {
      "name": "python3",
      "display_name": "Python 3"
    },
    "language_info": {
      "name": "python"
    }
  },
  "cells": [
    {
      "cell_type": "markdown",
      "metadata": {
        "id": "view-in-github",
        "colab_type": "text"
      },
      "source": [
        "<a href=\"https://colab.research.google.com/github/Abinav160701/ML_Projects/blob/master/TimeSeries_LSTM_Airlines.ipynb\" target=\"_parent\"><img src=\"https://colab.research.google.com/assets/colab-badge.svg\" alt=\"Open In Colab\"/></a>"
      ]
    },
    {
      "cell_type": "code",
      "execution_count": 3,
      "metadata": {
        "id": "mTn7Ok6Z2i2Y"
      },
      "outputs": [],
      "source": [
        "import numpy as np\n",
        "import matplotlib.pyplot as plt\n",
        "import pandas as pd\n",
        "import math\n",
        "import tensorflow\n",
        "from tensorflow.keras.models import Sequential\n",
        "from tensorflow.keras.layers import Dense\n",
        "from tensorflow.keras.layers import LSTM\n",
        "from sklearn.preprocessing import MinMaxScaler\n",
        "from sklearn.metrics import mean_squared_error\n",
        "numpy.random.seed(7)"
      ]
    },
    {
      "cell_type": "code",
      "source": [
        "dataset=pd.read_csv('airline-passengers.csv',usecols=[1])"
      ],
      "metadata": {
        "id": "uBQ55zlG2pfM"
      },
      "execution_count": 6,
      "outputs": []
    },
    {
      "cell_type": "code",
      "source": [
        "dataset.head()"
      ],
      "metadata": {
        "colab": {
          "base_uri": "https://localhost:8080/",
          "height": 206
        },
        "id": "4N9mJKI_2zcu",
        "outputId": "d88b7baa-1e62-4115-f515-ff69630d5d94"
      },
      "execution_count": 7,
      "outputs": [
        {
          "output_type": "execute_result",
          "data": {
            "text/plain": [
              "   Passengers\n",
              "0         112\n",
              "1         118\n",
              "2         132\n",
              "3         129\n",
              "4         121"
            ],
            "text/html": [
              "\n",
              "  <div id=\"df-8da877b5-cdf6-42cb-ab60-b72911363bfc\">\n",
              "    <div class=\"colab-df-container\">\n",
              "      <div>\n",
              "<style scoped>\n",
              "    .dataframe tbody tr th:only-of-type {\n",
              "        vertical-align: middle;\n",
              "    }\n",
              "\n",
              "    .dataframe tbody tr th {\n",
              "        vertical-align: top;\n",
              "    }\n",
              "\n",
              "    .dataframe thead th {\n",
              "        text-align: right;\n",
              "    }\n",
              "</style>\n",
              "<table border=\"1\" class=\"dataframe\">\n",
              "  <thead>\n",
              "    <tr style=\"text-align: right;\">\n",
              "      <th></th>\n",
              "      <th>Passengers</th>\n",
              "    </tr>\n",
              "  </thead>\n",
              "  <tbody>\n",
              "    <tr>\n",
              "      <th>0</th>\n",
              "      <td>112</td>\n",
              "    </tr>\n",
              "    <tr>\n",
              "      <th>1</th>\n",
              "      <td>118</td>\n",
              "    </tr>\n",
              "    <tr>\n",
              "      <th>2</th>\n",
              "      <td>132</td>\n",
              "    </tr>\n",
              "    <tr>\n",
              "      <th>3</th>\n",
              "      <td>129</td>\n",
              "    </tr>\n",
              "    <tr>\n",
              "      <th>4</th>\n",
              "      <td>121</td>\n",
              "    </tr>\n",
              "  </tbody>\n",
              "</table>\n",
              "</div>\n",
              "      <button class=\"colab-df-convert\" onclick=\"convertToInteractive('df-8da877b5-cdf6-42cb-ab60-b72911363bfc')\"\n",
              "              title=\"Convert this dataframe to an interactive table.\"\n",
              "              style=\"display:none;\">\n",
              "        \n",
              "  <svg xmlns=\"http://www.w3.org/2000/svg\" height=\"24px\"viewBox=\"0 0 24 24\"\n",
              "       width=\"24px\">\n",
              "    <path d=\"M0 0h24v24H0V0z\" fill=\"none\"/>\n",
              "    <path d=\"M18.56 5.44l.94 2.06.94-2.06 2.06-.94-2.06-.94-.94-2.06-.94 2.06-2.06.94zm-11 1L8.5 8.5l.94-2.06 2.06-.94-2.06-.94L8.5 2.5l-.94 2.06-2.06.94zm10 10l.94 2.06.94-2.06 2.06-.94-2.06-.94-.94-2.06-.94 2.06-2.06.94z\"/><path d=\"M17.41 7.96l-1.37-1.37c-.4-.4-.92-.59-1.43-.59-.52 0-1.04.2-1.43.59L10.3 9.45l-7.72 7.72c-.78.78-.78 2.05 0 2.83L4 21.41c.39.39.9.59 1.41.59.51 0 1.02-.2 1.41-.59l7.78-7.78 2.81-2.81c.8-.78.8-2.07 0-2.86zM5.41 20L4 18.59l7.72-7.72 1.47 1.35L5.41 20z\"/>\n",
              "  </svg>\n",
              "      </button>\n",
              "      \n",
              "  <style>\n",
              "    .colab-df-container {\n",
              "      display:flex;\n",
              "      flex-wrap:wrap;\n",
              "      gap: 12px;\n",
              "    }\n",
              "\n",
              "    .colab-df-convert {\n",
              "      background-color: #E8F0FE;\n",
              "      border: none;\n",
              "      border-radius: 50%;\n",
              "      cursor: pointer;\n",
              "      display: none;\n",
              "      fill: #1967D2;\n",
              "      height: 32px;\n",
              "      padding: 0 0 0 0;\n",
              "      width: 32px;\n",
              "    }\n",
              "\n",
              "    .colab-df-convert:hover {\n",
              "      background-color: #E2EBFA;\n",
              "      box-shadow: 0px 1px 2px rgba(60, 64, 67, 0.3), 0px 1px 3px 1px rgba(60, 64, 67, 0.15);\n",
              "      fill: #174EA6;\n",
              "    }\n",
              "\n",
              "    [theme=dark] .colab-df-convert {\n",
              "      background-color: #3B4455;\n",
              "      fill: #D2E3FC;\n",
              "    }\n",
              "\n",
              "    [theme=dark] .colab-df-convert:hover {\n",
              "      background-color: #434B5C;\n",
              "      box-shadow: 0px 1px 3px 1px rgba(0, 0, 0, 0.15);\n",
              "      filter: drop-shadow(0px 1px 2px rgba(0, 0, 0, 0.3));\n",
              "      fill: #FFFFFF;\n",
              "    }\n",
              "  </style>\n",
              "\n",
              "      <script>\n",
              "        const buttonEl =\n",
              "          document.querySelector('#df-8da877b5-cdf6-42cb-ab60-b72911363bfc button.colab-df-convert');\n",
              "        buttonEl.style.display =\n",
              "          google.colab.kernel.accessAllowed ? 'block' : 'none';\n",
              "\n",
              "        async function convertToInteractive(key) {\n",
              "          const element = document.querySelector('#df-8da877b5-cdf6-42cb-ab60-b72911363bfc');\n",
              "          const dataTable =\n",
              "            await google.colab.kernel.invokeFunction('convertToInteractive',\n",
              "                                                     [key], {});\n",
              "          if (!dataTable) return;\n",
              "\n",
              "          const docLinkHtml = 'Like what you see? Visit the ' +\n",
              "            '<a target=\"_blank\" href=https://colab.research.google.com/notebooks/data_table.ipynb>data table notebook</a>'\n",
              "            + ' to learn more about interactive tables.';\n",
              "          element.innerHTML = '';\n",
              "          dataTable['output_type'] = 'display_data';\n",
              "          await google.colab.output.renderOutput(dataTable, element);\n",
              "          const docLink = document.createElement('div');\n",
              "          docLink.innerHTML = docLinkHtml;\n",
              "          element.appendChild(docLink);\n",
              "        }\n",
              "      </script>\n",
              "    </div>\n",
              "  </div>\n",
              "  "
            ]
          },
          "metadata": {},
          "execution_count": 7
        }
      ]
    },
    {
      "cell_type": "code",
      "source": [
        "dataset=dataset.values"
      ],
      "metadata": {
        "id": "ise6cmbn24PS"
      },
      "execution_count": 8,
      "outputs": []
    },
    {
      "cell_type": "code",
      "source": [
        "dataset=dataset.astype('float32')"
      ],
      "metadata": {
        "id": "r6iE1EHx3DFp"
      },
      "execution_count": 10,
      "outputs": []
    },
    {
      "cell_type": "code",
      "source": [
        "scaler=MinMaxScaler()\n",
        "dataset=scaler.fit_transform(dataset)"
      ],
      "metadata": {
        "id": "pFJJtPmE3Gg1"
      },
      "execution_count": 12,
      "outputs": []
    },
    {
      "cell_type": "code",
      "source": [
        "train_size = int(len(dataset) * 0.67)\n",
        "test_size = len(dataset) - train_size\n",
        "train, test = dataset[0:train_size,:], dataset[train_size:len(dataset),:]\n",
        "print(len(train), len(test))"
      ],
      "metadata": {
        "colab": {
          "base_uri": "https://localhost:8080/"
        },
        "id": "jb5R3XBK3PzA",
        "outputId": "60b58bf9-8123-41cd-e3a7-cb299f7551dd"
      },
      "execution_count": 13,
      "outputs": [
        {
          "output_type": "stream",
          "name": "stdout",
          "text": [
            "96 48\n"
          ]
        }
      ]
    },
    {
      "cell_type": "code",
      "source": [
        "def create_dataset(dataset, look_back=1):\n",
        "    dataX, dataY = [], []\n",
        "    for i in range(len(dataset)-look_back-1):\n",
        "        a = dataset[i:(i+look_back), 0]\n",
        "        dataX.append(a)\n",
        "        dataY.append(dataset[i + look_back, 0])\n",
        "    return numpy.array(dataX), numpy.array(dataY)"
      ],
      "metadata": {
        "id": "uwnG0kvp3WGO"
      },
      "execution_count": 14,
      "outputs": []
    },
    {
      "cell_type": "code",
      "source": [
        "look_back = 1\n",
        "trainX, trainY = create_dataset(train, look_back)\n",
        "testX, testY = create_dataset(test, look_back)\n",
        "# reshape input to be [samples, time steps, features]\n",
        "trainX = numpy.reshape(trainX, (trainX.shape[0], 1, trainX.shape[1]))\n",
        "testX = numpy.reshape(testX, (testX.shape[0], 1, testX.shape[1]))"
      ],
      "metadata": {
        "id": "n5UC4Yce3imI"
      },
      "execution_count": 15,
      "outputs": []
    },
    {
      "cell_type": "code",
      "source": [
        "model=Sequential()\n",
        "model.add(LSTM(4,input_shape=(1,look_back)))\n",
        "model.add(Dense(1))\n",
        "model.compile(loss='mse',optimizer='adam')\n",
        "model.fit(trainX,trainY,epochs=100,batch_size=1,verbose=2)"
      ],
      "metadata": {
        "colab": {
          "base_uri": "https://localhost:8080/"
        },
        "id": "O_xEcf1g3nAY",
        "outputId": "4e813121-4189-4515-a522-8a23e27f0d66"
      },
      "execution_count": 17,
      "outputs": [
        {
          "output_type": "stream",
          "name": "stdout",
          "text": [
            "Epoch 1/100\n",
            "94/94 - 2s - loss: 0.0458 - 2s/epoch - 17ms/step\n",
            "Epoch 2/100\n",
            "94/94 - 0s - loss: 0.0204 - 125ms/epoch - 1ms/step\n",
            "Epoch 3/100\n",
            "94/94 - 0s - loss: 0.0163 - 118ms/epoch - 1ms/step\n",
            "Epoch 4/100\n",
            "94/94 - 0s - loss: 0.0148 - 134ms/epoch - 1ms/step\n",
            "Epoch 5/100\n",
            "94/94 - 0s - loss: 0.0135 - 124ms/epoch - 1ms/step\n",
            "Epoch 6/100\n",
            "94/94 - 0s - loss: 0.0121 - 130ms/epoch - 1ms/step\n",
            "Epoch 7/100\n",
            "94/94 - 0s - loss: 0.0108 - 116ms/epoch - 1ms/step\n",
            "Epoch 8/100\n",
            "94/94 - 0s - loss: 0.0097 - 155ms/epoch - 2ms/step\n",
            "Epoch 9/100\n",
            "94/94 - 0s - loss: 0.0085 - 122ms/epoch - 1ms/step\n",
            "Epoch 10/100\n",
            "94/94 - 0s - loss: 0.0074 - 123ms/epoch - 1ms/step\n",
            "Epoch 11/100\n",
            "94/94 - 0s - loss: 0.0065 - 121ms/epoch - 1ms/step\n",
            "Epoch 12/100\n",
            "94/94 - 0s - loss: 0.0056 - 144ms/epoch - 2ms/step\n",
            "Epoch 13/100\n",
            "94/94 - 0s - loss: 0.0048 - 151ms/epoch - 2ms/step\n",
            "Epoch 14/100\n",
            "94/94 - 0s - loss: 0.0043 - 118ms/epoch - 1ms/step\n",
            "Epoch 15/100\n",
            "94/94 - 0s - loss: 0.0037 - 146ms/epoch - 2ms/step\n",
            "Epoch 16/100\n",
            "94/94 - 0s - loss: 0.0032 - 134ms/epoch - 1ms/step\n",
            "Epoch 17/100\n",
            "94/94 - 0s - loss: 0.0028 - 126ms/epoch - 1ms/step\n",
            "Epoch 18/100\n",
            "94/94 - 0s - loss: 0.0026 - 119ms/epoch - 1ms/step\n",
            "Epoch 19/100\n",
            "94/94 - 0s - loss: 0.0024 - 130ms/epoch - 1ms/step\n",
            "Epoch 20/100\n",
            "94/94 - 0s - loss: 0.0023 - 121ms/epoch - 1ms/step\n",
            "Epoch 21/100\n",
            "94/94 - 0s - loss: 0.0022 - 129ms/epoch - 1ms/step\n",
            "Epoch 22/100\n",
            "94/94 - 0s - loss: 0.0021 - 118ms/epoch - 1ms/step\n",
            "Epoch 23/100\n",
            "94/94 - 0s - loss: 0.0022 - 138ms/epoch - 1ms/step\n",
            "Epoch 24/100\n",
            "94/94 - 0s - loss: 0.0021 - 148ms/epoch - 2ms/step\n",
            "Epoch 25/100\n",
            "94/94 - 0s - loss: 0.0022 - 134ms/epoch - 1ms/step\n",
            "Epoch 26/100\n",
            "94/94 - 0s - loss: 0.0021 - 142ms/epoch - 2ms/step\n",
            "Epoch 27/100\n",
            "94/94 - 0s - loss: 0.0021 - 140ms/epoch - 1ms/step\n",
            "Epoch 28/100\n",
            "94/94 - 0s - loss: 0.0021 - 163ms/epoch - 2ms/step\n",
            "Epoch 29/100\n",
            "94/94 - 0s - loss: 0.0021 - 124ms/epoch - 1ms/step\n",
            "Epoch 30/100\n",
            "94/94 - 0s - loss: 0.0021 - 126ms/epoch - 1ms/step\n",
            "Epoch 31/100\n",
            "94/94 - 0s - loss: 0.0021 - 119ms/epoch - 1ms/step\n",
            "Epoch 32/100\n",
            "94/94 - 0s - loss: 0.0021 - 124ms/epoch - 1ms/step\n",
            "Epoch 33/100\n",
            "94/94 - 0s - loss: 0.0022 - 138ms/epoch - 1ms/step\n",
            "Epoch 34/100\n",
            "94/94 - 0s - loss: 0.0021 - 118ms/epoch - 1ms/step\n",
            "Epoch 35/100\n",
            "94/94 - 0s - loss: 0.0021 - 126ms/epoch - 1ms/step\n",
            "Epoch 36/100\n",
            "94/94 - 0s - loss: 0.0021 - 127ms/epoch - 1ms/step\n",
            "Epoch 37/100\n",
            "94/94 - 0s - loss: 0.0021 - 131ms/epoch - 1ms/step\n",
            "Epoch 38/100\n",
            "94/94 - 0s - loss: 0.0021 - 116ms/epoch - 1ms/step\n",
            "Epoch 39/100\n",
            "94/94 - 0s - loss: 0.0021 - 131ms/epoch - 1ms/step\n",
            "Epoch 40/100\n",
            "94/94 - 0s - loss: 0.0021 - 123ms/epoch - 1ms/step\n",
            "Epoch 41/100\n",
            "94/94 - 0s - loss: 0.0020 - 129ms/epoch - 1ms/step\n",
            "Epoch 42/100\n",
            "94/94 - 0s - loss: 0.0021 - 134ms/epoch - 1ms/step\n",
            "Epoch 43/100\n",
            "94/94 - 0s - loss: 0.0021 - 122ms/epoch - 1ms/step\n",
            "Epoch 44/100\n",
            "94/94 - 0s - loss: 0.0021 - 127ms/epoch - 1ms/step\n",
            "Epoch 45/100\n",
            "94/94 - 0s - loss: 0.0021 - 128ms/epoch - 1ms/step\n",
            "Epoch 46/100\n",
            "94/94 - 0s - loss: 0.0022 - 128ms/epoch - 1ms/step\n",
            "Epoch 47/100\n",
            "94/94 - 0s - loss: 0.0020 - 125ms/epoch - 1ms/step\n",
            "Epoch 48/100\n",
            "94/94 - 0s - loss: 0.0022 - 132ms/epoch - 1ms/step\n",
            "Epoch 49/100\n",
            "94/94 - 0s - loss: 0.0021 - 128ms/epoch - 1ms/step\n",
            "Epoch 50/100\n",
            "94/94 - 0s - loss: 0.0020 - 140ms/epoch - 1ms/step\n",
            "Epoch 51/100\n",
            "94/94 - 0s - loss: 0.0021 - 118ms/epoch - 1ms/step\n",
            "Epoch 52/100\n",
            "94/94 - 0s - loss: 0.0021 - 135ms/epoch - 1ms/step\n",
            "Epoch 53/100\n",
            "94/94 - 0s - loss: 0.0020 - 126ms/epoch - 1ms/step\n",
            "Epoch 54/100\n",
            "94/94 - 0s - loss: 0.0022 - 135ms/epoch - 1ms/step\n",
            "Epoch 55/100\n",
            "94/94 - 0s - loss: 0.0021 - 129ms/epoch - 1ms/step\n",
            "Epoch 56/100\n",
            "94/94 - 0s - loss: 0.0022 - 118ms/epoch - 1ms/step\n",
            "Epoch 57/100\n",
            "94/94 - 0s - loss: 0.0020 - 116ms/epoch - 1ms/step\n",
            "Epoch 58/100\n",
            "94/94 - 0s - loss: 0.0021 - 132ms/epoch - 1ms/step\n",
            "Epoch 59/100\n",
            "94/94 - 0s - loss: 0.0021 - 120ms/epoch - 1ms/step\n",
            "Epoch 60/100\n",
            "94/94 - 0s - loss: 0.0021 - 120ms/epoch - 1ms/step\n",
            "Epoch 61/100\n",
            "94/94 - 0s - loss: 0.0021 - 122ms/epoch - 1ms/step\n",
            "Epoch 62/100\n",
            "94/94 - 0s - loss: 0.0021 - 129ms/epoch - 1ms/step\n",
            "Epoch 63/100\n",
            "94/94 - 0s - loss: 0.0021 - 124ms/epoch - 1ms/step\n",
            "Epoch 64/100\n",
            "94/94 - 0s - loss: 0.0021 - 132ms/epoch - 1ms/step\n",
            "Epoch 65/100\n",
            "94/94 - 0s - loss: 0.0021 - 137ms/epoch - 1ms/step\n",
            "Epoch 66/100\n",
            "94/94 - 0s - loss: 0.0021 - 128ms/epoch - 1ms/step\n",
            "Epoch 67/100\n",
            "94/94 - 0s - loss: 0.0021 - 143ms/epoch - 2ms/step\n",
            "Epoch 68/100\n",
            "94/94 - 0s - loss: 0.0021 - 120ms/epoch - 1ms/step\n",
            "Epoch 69/100\n",
            "94/94 - 0s - loss: 0.0021 - 140ms/epoch - 1ms/step\n",
            "Epoch 70/100\n",
            "94/94 - 0s - loss: 0.0021 - 123ms/epoch - 1ms/step\n",
            "Epoch 71/100\n",
            "94/94 - 0s - loss: 0.0021 - 119ms/epoch - 1ms/step\n",
            "Epoch 72/100\n",
            "94/94 - 0s - loss: 0.0021 - 123ms/epoch - 1ms/step\n",
            "Epoch 73/100\n",
            "94/94 - 0s - loss: 0.0020 - 136ms/epoch - 1ms/step\n",
            "Epoch 74/100\n",
            "94/94 - 0s - loss: 0.0021 - 119ms/epoch - 1ms/step\n",
            "Epoch 75/100\n",
            "94/94 - 0s - loss: 0.0020 - 116ms/epoch - 1ms/step\n",
            "Epoch 76/100\n",
            "94/94 - 0s - loss: 0.0021 - 129ms/epoch - 1ms/step\n",
            "Epoch 77/100\n",
            "94/94 - 0s - loss: 0.0021 - 130ms/epoch - 1ms/step\n",
            "Epoch 78/100\n",
            "94/94 - 0s - loss: 0.0021 - 121ms/epoch - 1ms/step\n",
            "Epoch 79/100\n",
            "94/94 - 0s - loss: 0.0021 - 123ms/epoch - 1ms/step\n",
            "Epoch 80/100\n",
            "94/94 - 0s - loss: 0.0020 - 122ms/epoch - 1ms/step\n",
            "Epoch 81/100\n",
            "94/94 - 0s - loss: 0.0021 - 132ms/epoch - 1ms/step\n",
            "Epoch 82/100\n",
            "94/94 - 0s - loss: 0.0020 - 133ms/epoch - 1ms/step\n",
            "Epoch 83/100\n",
            "94/94 - 0s - loss: 0.0021 - 125ms/epoch - 1ms/step\n",
            "Epoch 84/100\n",
            "94/94 - 0s - loss: 0.0020 - 125ms/epoch - 1ms/step\n",
            "Epoch 85/100\n",
            "94/94 - 0s - loss: 0.0021 - 121ms/epoch - 1ms/step\n",
            "Epoch 86/100\n",
            "94/94 - 0s - loss: 0.0021 - 162ms/epoch - 2ms/step\n",
            "Epoch 87/100\n",
            "94/94 - 0s - loss: 0.0021 - 138ms/epoch - 1ms/step\n",
            "Epoch 88/100\n",
            "94/94 - 0s - loss: 0.0021 - 130ms/epoch - 1ms/step\n",
            "Epoch 89/100\n",
            "94/94 - 0s - loss: 0.0021 - 125ms/epoch - 1ms/step\n",
            "Epoch 90/100\n",
            "94/94 - 0s - loss: 0.0021 - 139ms/epoch - 1ms/step\n",
            "Epoch 91/100\n",
            "94/94 - 0s - loss: 0.0020 - 124ms/epoch - 1ms/step\n",
            "Epoch 92/100\n",
            "94/94 - 0s - loss: 0.0021 - 127ms/epoch - 1ms/step\n",
            "Epoch 93/100\n",
            "94/94 - 0s - loss: 0.0021 - 125ms/epoch - 1ms/step\n",
            "Epoch 94/100\n",
            "94/94 - 0s - loss: 0.0020 - 128ms/epoch - 1ms/step\n",
            "Epoch 95/100\n",
            "94/94 - 0s - loss: 0.0020 - 124ms/epoch - 1ms/step\n",
            "Epoch 96/100\n",
            "94/94 - 0s - loss: 0.0022 - 126ms/epoch - 1ms/step\n",
            "Epoch 97/100\n",
            "94/94 - 0s - loss: 0.0021 - 126ms/epoch - 1ms/step\n",
            "Epoch 98/100\n",
            "94/94 - 0s - loss: 0.0020 - 135ms/epoch - 1ms/step\n",
            "Epoch 99/100\n",
            "94/94 - 0s - loss: 0.0021 - 131ms/epoch - 1ms/step\n",
            "Epoch 100/100\n",
            "94/94 - 0s - loss: 0.0020 - 144ms/epoch - 2ms/step\n"
          ]
        },
        {
          "output_type": "execute_result",
          "data": {
            "text/plain": [
              "<keras.callbacks.History at 0x7f7fd5730a10>"
            ]
          },
          "metadata": {},
          "execution_count": 17
        }
      ]
    },
    {
      "cell_type": "code",
      "source": [
        "trainPredict=model.predict(trainX)"
      ],
      "metadata": {
        "id": "8GRp-SGZ3oFd"
      },
      "execution_count": 18,
      "outputs": []
    },
    {
      "cell_type": "code",
      "source": [
        "testPredict=model.predict(testX)"
      ],
      "metadata": {
        "id": "DaMfzgOp4JO5"
      },
      "execution_count": 19,
      "outputs": []
    },
    {
      "cell_type": "code",
      "source": [
        "trainPredict=scaler.inverse_transform(trainPredict)\n",
        "trainY=scaler.inverse_transform([trainY])\n",
        "testPredict=scaler.inverse_transform(testPredict)\n",
        "testY=scaler.inverse_transform([testY])"
      ],
      "metadata": {
        "id": "aTPkTEXj4NLy"
      },
      "execution_count": 20,
      "outputs": []
    },
    {
      "cell_type": "code",
      "source": [
        "trainScore=math.sqrt(mean_squared_error(trainY[0],trainPredict[:,0]))\n",
        "testScore=math.sqrt(mean_squared_error(testY[0],testPredict[:,0]))\n"
      ],
      "metadata": {
        "id": "nCzFCRnB4d95"
      },
      "execution_count": 22,
      "outputs": []
    },
    {
      "cell_type": "code",
      "source": [
        "trainPredictPlot=np.empty_like(dataset)\n",
        "trainPredictPlot[:,:]=np.nan\n",
        "trainPredictPlot[look_back:len(trainPredict)+look_back, :] = trainPredict\n"
      ],
      "metadata": {
        "id": "0JrfgpDZ4pvl"
      },
      "execution_count": 23,
      "outputs": []
    },
    {
      "cell_type": "code",
      "source": [
        "testPredictPlot = numpy.empty_like(dataset)\n",
        "testPredictPlot[:, :] = numpy.nan\n",
        "testPredictPlot[len(trainPredict)+(look_back*2)+1:len(dataset)-1, :] = testPredict"
      ],
      "metadata": {
        "id": "NbXeKijN47EK"
      },
      "execution_count": 24,
      "outputs": []
    },
    {
      "cell_type": "code",
      "source": [
        "plt.plot(scaler.inverse_transform(dataset))\n",
        "plt.plot(trainPredictPlot)\n",
        "plt.plot(testPredictPlot)\n",
        "plt.show()"
      ],
      "metadata": {
        "colab": {
          "base_uri": "https://localhost:8080/",
          "height": 265
        },
        "id": "RLtHFt6w5C20",
        "outputId": "dd09f6ee-0184-4564-ef28-c86b4a23413b"
      },
      "execution_count": 25,
      "outputs": [
        {
          "output_type": "display_data",
          "data": {
            "text/plain": [
              "<Figure size 432x288 with 1 Axes>"
            ],
            "image/png": "[encoded data removed]"
          },
          "metadata": {
            "needs_background": "light"
          }
        }
      ]
    },
    {
      "cell_type": "code",
      "source": [
        ""
      ],
      "metadata": {
        "id": "PP512hTI5Em3"
      },
      "execution_count": null,
      "outputs": []
    }
  ]
}