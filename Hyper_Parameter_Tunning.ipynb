{
  "cells": [
    {
      "cell_type": "markdown",
      "metadata": {
        "id": "view-in-github",
        "colab_type": "text"
      },
      "source": [
        "<a href=\"https://colab.research.google.com/github/Abinav160701/ML_Projects/blob/master/Hyper_Parameter_Tunning.ipynb\" target=\"_parent\"><img src=\"https://colab.research.google.com/assets/colab-badge.svg\" alt=\"Open In Colab\"/></a>"
      ]
    },
    {
      "cell_type": "markdown",
      "metadata": {
        "id": "cjpil8duwJkn"
      },
      "source": [
        "## All Techniques of Hyper Parameter Optimization\n",
        "- GridSearchCV\n",
        "- RandomizedSearchCV\n",
        "- Bayesian Optimization - Automate Hyperparamtere Tuning(Hyperopt)\n",
        "- Sequential Model Based Optimization (Tuninga scikit-learn estimator with skopt)\n",
        "- Optuna-Automate Hyperparameter Tuning\n",
        "- Genetic Algorithms (TPOT Classifier)"
      ]
    },
    {
      "cell_type": "code",
      "source": [
        ""
      ],
      "metadata": {
        "id": "jPykKpP7wKj_"
      },
      "execution_count": null,
      "outputs": []
    },
    {
      "cell_type": "markdown",
      "metadata": {
        "id": "7KtpRqy1wJkw"
      },
      "source": [
        "### Refrences\n",
        "- https://github.com/fmfn/BayesianOptimization\n",
        "- https://github.com/hyperopt/hyperopt\n",
        "- https://www.jeremyjordan.me/hyperparameter-tuning/\n",
        "- https://optuna.org/\n",
        "- https://towardsdatascience.com/hyperparameters-optimization-526348bb8e2d\n",
        "- http://scikit-optimize.github.io/stable/auto_examples/hyperparameter-optimization.html"
      ]
    },
    {
      "cell_type": "code",
      "execution_count": null,
      "metadata": {
        "id": "MZvMT_amwJky"
      },
      "outputs": [],
      "source": [
        "import warnings\n",
        "warnings.filterwarnings('ignore')"
      ]
    },
    {
      "cell_type": "code",
      "execution_count": null,
      "metadata": {
        "id": "4UFxjEzXwJk1"
      },
      "outputs": [],
      "source": [
        "import pandas as pd\n",
        "\n",
        "## Read dataset\n",
        "df = pd.read_csv('diabetes.csv')"
      ]
    },
    {
      "cell_type": "code",
      "execution_count": null,
      "metadata": {
        "id": "0KwO277KwJk2",
        "outputId": "589cd817-e6c7-4584-b610-38aca2b64467"
      },
      "outputs": [
        {
          "data": {
            "text/html": [
              "<div>\n",
              "<style scoped>\n",
              "    .dataframe tbody tr th:only-of-type {\n",
              "        vertical-align: middle;\n",
              "    }\n",
              "\n",
              "    .dataframe tbody tr th {\n",
              "        vertical-align: top;\n",
              "    }\n",
              "\n",
              "    .dataframe thead th {\n",
              "        text-align: right;\n",
              "    }\n",
              "</style>\n",
              "<table border=\"1\" class=\"dataframe\">\n",
              "  <thead>\n",
              "    <tr style=\"text-align: right;\">\n",
              "      <th></th>\n",
              "      <th>Pregnancies</th>\n",
              "      <th>Glucose</th>\n",
              "      <th>BloodPressure</th>\n",
              "      <th>SkinThickness</th>\n",
              "      <th>Insulin</th>\n",
              "      <th>BMI</th>\n",
              "      <th>DiabetesPedigreeFunction</th>\n",
              "      <th>Age</th>\n",
              "      <th>Outcome</th>\n",
              "    </tr>\n",
              "  </thead>\n",
              "  <tbody>\n",
              "    <tr>\n",
              "      <th>0</th>\n",
              "      <td>6</td>\n",
              "      <td>148</td>\n",
              "      <td>72</td>\n",
              "      <td>35</td>\n",
              "      <td>0</td>\n",
              "      <td>33.6</td>\n",
              "      <td>0.627</td>\n",
              "      <td>50</td>\n",
              "      <td>1</td>\n",
              "    </tr>\n",
              "    <tr>\n",
              "      <th>1</th>\n",
              "      <td>1</td>\n",
              "      <td>85</td>\n",
              "      <td>66</td>\n",
              "      <td>29</td>\n",
              "      <td>0</td>\n",
              "      <td>26.6</td>\n",
              "      <td>0.351</td>\n",
              "      <td>31</td>\n",
              "      <td>0</td>\n",
              "    </tr>\n",
              "    <tr>\n",
              "      <th>2</th>\n",
              "      <td>8</td>\n",
              "      <td>183</td>\n",
              "      <td>64</td>\n",
              "      <td>0</td>\n",
              "      <td>0</td>\n",
              "      <td>23.3</td>\n",
              "      <td>0.672</td>\n",
              "      <td>32</td>\n",
              "      <td>1</td>\n",
              "    </tr>\n",
              "    <tr>\n",
              "      <th>3</th>\n",
              "      <td>1</td>\n",
              "      <td>89</td>\n",
              "      <td>66</td>\n",
              "      <td>23</td>\n",
              "      <td>94</td>\n",
              "      <td>28.1</td>\n",
              "      <td>0.167</td>\n",
              "      <td>21</td>\n",
              "      <td>0</td>\n",
              "    </tr>\n",
              "    <tr>\n",
              "      <th>4</th>\n",
              "      <td>0</td>\n",
              "      <td>137</td>\n",
              "      <td>40</td>\n",
              "      <td>35</td>\n",
              "      <td>168</td>\n",
              "      <td>43.1</td>\n",
              "      <td>2.288</td>\n",
              "      <td>33</td>\n",
              "      <td>1</td>\n",
              "    </tr>\n",
              "  </tbody>\n",
              "</table>\n",
              "</div>"
            ],
            "text/plain": [
              "   Pregnancies  Glucose  BloodPressure  SkinThickness  Insulin   BMI  \\\n",
              "0            6      148             72             35        0  33.6   \n",
              "1            1       85             66             29        0  26.6   \n",
              "2            8      183             64              0        0  23.3   \n",
              "3            1       89             66             23       94  28.1   \n",
              "4            0      137             40             35      168  43.1   \n",
              "\n",
              "   DiabetesPedigreeFunction  Age  Outcome  \n",
              "0                     0.627   50        1  \n",
              "1                     0.351   31        0  \n",
              "2                     0.672   32        1  \n",
              "3                     0.167   21        0  \n",
              "4                     2.288   33        1  "
            ]
          },
          "execution_count": 25,
          "metadata": {},
          "output_type": "execute_result"
        }
      ],
      "source": [
        "df.head()"
      ]
    },
    {
      "cell_type": "code",
      "execution_count": null,
      "metadata": {
        "id": "lWnbEcRKwJk5"
      },
      "outputs": [],
      "source": [
        "import numpy as np\n",
        "\n",
        "## converting glucose and Insulin features into one-hot-encoding\n",
        "df['Glucose'] = np.where(df.Glucose == 0, df.Glucose.median(), df['Glucose'])\n",
        "df['Insulin'] = np.where(df.Insulin == 0, df.Insulin.median(), df['Insulin'])"
      ]
    },
    {
      "cell_type": "code",
      "execution_count": null,
      "metadata": {
        "id": "49nbSC6YwJk6",
        "outputId": "929b7b9b-0da8-416e-9a0f-42fe925d2043"
      },
      "outputs": [
        {
          "data": {
            "text/html": [
              "<div>\n",
              "<style scoped>\n",
              "    .dataframe tbody tr th:only-of-type {\n",
              "        vertical-align: middle;\n",
              "    }\n",
              "\n",
              "    .dataframe tbody tr th {\n",
              "        vertical-align: top;\n",
              "    }\n",
              "\n",
              "    .dataframe thead th {\n",
              "        text-align: right;\n",
              "    }\n",
              "</style>\n",
              "<table border=\"1\" class=\"dataframe\">\n",
              "  <thead>\n",
              "    <tr style=\"text-align: right;\">\n",
              "      <th></th>\n",
              "      <th>Pregnancies</th>\n",
              "      <th>Glucose</th>\n",
              "      <th>BloodPressure</th>\n",
              "      <th>SkinThickness</th>\n",
              "      <th>Insulin</th>\n",
              "      <th>BMI</th>\n",
              "      <th>DiabetesPedigreeFunction</th>\n",
              "      <th>Age</th>\n",
              "      <th>Outcome</th>\n",
              "    </tr>\n",
              "  </thead>\n",
              "  <tbody>\n",
              "    <tr>\n",
              "      <th>0</th>\n",
              "      <td>6</td>\n",
              "      <td>148.0</td>\n",
              "      <td>72</td>\n",
              "      <td>35</td>\n",
              "      <td>30.5</td>\n",
              "      <td>33.6</td>\n",
              "      <td>0.627</td>\n",
              "      <td>50</td>\n",
              "      <td>1</td>\n",
              "    </tr>\n",
              "    <tr>\n",
              "      <th>1</th>\n",
              "      <td>1</td>\n",
              "      <td>85.0</td>\n",
              "      <td>66</td>\n",
              "      <td>29</td>\n",
              "      <td>30.5</td>\n",
              "      <td>26.6</td>\n",
              "      <td>0.351</td>\n",
              "      <td>31</td>\n",
              "      <td>0</td>\n",
              "    </tr>\n",
              "    <tr>\n",
              "      <th>2</th>\n",
              "      <td>8</td>\n",
              "      <td>183.0</td>\n",
              "      <td>64</td>\n",
              "      <td>0</td>\n",
              "      <td>30.5</td>\n",
              "      <td>23.3</td>\n",
              "      <td>0.672</td>\n",
              "      <td>32</td>\n",
              "      <td>1</td>\n",
              "    </tr>\n",
              "    <tr>\n",
              "      <th>3</th>\n",
              "      <td>1</td>\n",
              "      <td>89.0</td>\n",
              "      <td>66</td>\n",
              "      <td>23</td>\n",
              "      <td>94.0</td>\n",
              "      <td>28.1</td>\n",
              "      <td>0.167</td>\n",
              "      <td>21</td>\n",
              "      <td>0</td>\n",
              "    </tr>\n",
              "    <tr>\n",
              "      <th>4</th>\n",
              "      <td>0</td>\n",
              "      <td>137.0</td>\n",
              "      <td>40</td>\n",
              "      <td>35</td>\n",
              "      <td>168.0</td>\n",
              "      <td>43.1</td>\n",
              "      <td>2.288</td>\n",
              "      <td>33</td>\n",
              "      <td>1</td>\n",
              "    </tr>\n",
              "  </tbody>\n",
              "</table>\n",
              "</div>"
            ],
            "text/plain": [
              "   Pregnancies  Glucose  BloodPressure  SkinThickness  Insulin   BMI  \\\n",
              "0            6    148.0             72             35     30.5  33.6   \n",
              "1            1     85.0             66             29     30.5  26.6   \n",
              "2            8    183.0             64              0     30.5  23.3   \n",
              "3            1     89.0             66             23     94.0  28.1   \n",
              "4            0    137.0             40             35    168.0  43.1   \n",
              "\n",
              "   DiabetesPedigreeFunction  Age  Outcome  \n",
              "0                     0.627   50        1  \n",
              "1                     0.351   31        0  \n",
              "2                     0.672   32        1  \n",
              "3                     0.167   21        0  \n",
              "4                     2.288   33        1  "
            ]
          },
          "execution_count": 27,
          "metadata": {},
          "output_type": "execute_result"
        }
      ],
      "source": [
        "df.head()"
      ]
    },
    {
      "cell_type": "code",
      "execution_count": null,
      "metadata": {
        "id": "EjdRJC0TwJk8"
      },
      "outputs": [],
      "source": [
        "## Independent And Dependent Features\n",
        "\n",
        "X = df.iloc[:, :-1]\n",
        "y = df.iloc[:, -1]"
      ]
    },
    {
      "cell_type": "code",
      "execution_count": null,
      "metadata": {
        "id": "n5zHA3e-wJk-",
        "outputId": "6d987791-df5e-4df2-df36-eb30e728cf10"
      },
      "outputs": [
        {
          "data": {
            "text/html": [
              "<div>\n",
              "<style scoped>\n",
              "    .dataframe tbody tr th:only-of-type {\n",
              "        vertical-align: middle;\n",
              "    }\n",
              "\n",
              "    .dataframe tbody tr th {\n",
              "        vertical-align: top;\n",
              "    }\n",
              "\n",
              "    .dataframe thead th {\n",
              "        text-align: right;\n",
              "    }\n",
              "</style>\n",
              "<table border=\"1\" class=\"dataframe\">\n",
              "  <thead>\n",
              "    <tr style=\"text-align: right;\">\n",
              "      <th></th>\n",
              "      <th>Pregnancies</th>\n",
              "      <th>Glucose</th>\n",
              "      <th>BloodPressure</th>\n",
              "      <th>SkinThickness</th>\n",
              "      <th>Insulin</th>\n",
              "      <th>BMI</th>\n",
              "      <th>DiabetesPedigreeFunction</th>\n",
              "      <th>Age</th>\n",
              "    </tr>\n",
              "  </thead>\n",
              "  <tbody>\n",
              "    <tr>\n",
              "      <th>0</th>\n",
              "      <td>6</td>\n",
              "      <td>148.0</td>\n",
              "      <td>72</td>\n",
              "      <td>35</td>\n",
              "      <td>30.5</td>\n",
              "      <td>33.6</td>\n",
              "      <td>0.627</td>\n",
              "      <td>50</td>\n",
              "    </tr>\n",
              "    <tr>\n",
              "      <th>1</th>\n",
              "      <td>1</td>\n",
              "      <td>85.0</td>\n",
              "      <td>66</td>\n",
              "      <td>29</td>\n",
              "      <td>30.5</td>\n",
              "      <td>26.6</td>\n",
              "      <td>0.351</td>\n",
              "      <td>31</td>\n",
              "    </tr>\n",
              "    <tr>\n",
              "      <th>2</th>\n",
              "      <td>8</td>\n",
              "      <td>183.0</td>\n",
              "      <td>64</td>\n",
              "      <td>0</td>\n",
              "      <td>30.5</td>\n",
              "      <td>23.3</td>\n",
              "      <td>0.672</td>\n",
              "      <td>32</td>\n",
              "    </tr>\n",
              "    <tr>\n",
              "      <th>3</th>\n",
              "      <td>1</td>\n",
              "      <td>89.0</td>\n",
              "      <td>66</td>\n",
              "      <td>23</td>\n",
              "      <td>94.0</td>\n",
              "      <td>28.1</td>\n",
              "      <td>0.167</td>\n",
              "      <td>21</td>\n",
              "    </tr>\n",
              "    <tr>\n",
              "      <th>4</th>\n",
              "      <td>0</td>\n",
              "      <td>137.0</td>\n",
              "      <td>40</td>\n",
              "      <td>35</td>\n",
              "      <td>168.0</td>\n",
              "      <td>43.1</td>\n",
              "      <td>2.288</td>\n",
              "      <td>33</td>\n",
              "    </tr>\n",
              "  </tbody>\n",
              "</table>\n",
              "</div>"
            ],
            "text/plain": [
              "   Pregnancies  Glucose  BloodPressure  SkinThickness  Insulin   BMI  \\\n",
              "0            6    148.0             72             35     30.5  33.6   \n",
              "1            1     85.0             66             29     30.5  26.6   \n",
              "2            8    183.0             64              0     30.5  23.3   \n",
              "3            1     89.0             66             23     94.0  28.1   \n",
              "4            0    137.0             40             35    168.0  43.1   \n",
              "\n",
              "   DiabetesPedigreeFunction  Age  \n",
              "0                     0.627   50  \n",
              "1                     0.351   31  \n",
              "2                     0.672   32  \n",
              "3                     0.167   21  \n",
              "4                     2.288   33  "
            ]
          },
          "execution_count": 29,
          "metadata": {},
          "output_type": "execute_result"
        }
      ],
      "source": [
        "X.head()"
      ]
    },
    {
      "cell_type": "code",
      "execution_count": null,
      "metadata": {
        "id": "NxeiXA2ewJlA",
        "outputId": "a38e2b11-ce5a-4884-f519-7d6986b5c8d7"
      },
      "outputs": [
        {
          "data": {
            "text/plain": [
              "0    1\n",
              "1    0\n",
              "2    1\n",
              "3    0\n",
              "4    1\n",
              "Name: Outcome, dtype: int64"
            ]
          },
          "execution_count": 30,
          "metadata": {},
          "output_type": "execute_result"
        }
      ],
      "source": [
        "## Labels\n",
        "\n",
        "y.head()"
      ]
    },
    {
      "cell_type": "code",
      "execution_count": null,
      "metadata": {
        "id": "gUT4Em-PwJlC"
      },
      "outputs": [],
      "source": [
        "## train test split\n",
        "\n",
        "from sklearn.model_selection import train_test_split\n",
        "X_train, X_test, y_train, y_test = train_test_split(X, y, test_size=0.20, random_state=42)"
      ]
    },
    {
      "cell_type": "code",
      "execution_count": null,
      "metadata": {
        "id": "_tOuGHwlwJlD"
      },
      "outputs": [],
      "source": [
        "from sklearn.ensemble import RandomForestClassifier\n",
        "rf = RandomForestClassifier(n_estimators=10).fit(X_train, y_train)\n",
        "prediction = rf.predict(X_test)"
      ]
    },
    {
      "cell_type": "code",
      "execution_count": null,
      "metadata": {
        "id": "klH7xNkGwJlE",
        "outputId": "50818931-c8f0-4a57-d198-52495b224022"
      },
      "outputs": [
        {
          "data": {
            "text/plain": [
              "0    500\n",
              "1    268\n",
              "Name: Outcome, dtype: int64"
            ]
          },
          "execution_count": 36,
          "metadata": {},
          "output_type": "execute_result"
        }
      ],
      "source": [
        "y.value_counts()"
      ]
    },
    {
      "cell_type": "code",
      "execution_count": null,
      "metadata": {
        "id": "fNpwysvjwJlF",
        "outputId": "bf6347ee-f6e8-43ce-d338-7f8b0f10b4b5"
      },
      "outputs": [
        {
          "name": "stdout",
          "output_type": "stream",
          "text": [
            "<-------------------Confusion metrics results is ------------->\n",
            " : [[85 14]\n",
            " [25 30]]\n",
            "<------------------Classification report is---------------> \n",
            ":               precision    recall  f1-score   support\n",
            "\n",
            "           0       0.77      0.86      0.81        99\n",
            "           1       0.68      0.55      0.61        55\n",
            "\n",
            "    accuracy                           0.75       154\n",
            "   macro avg       0.73      0.70      0.71       154\n",
            "weighted avg       0.74      0.75      0.74       154\n",
            "\n",
            "<------------------ Accuracy score----------------> : 0.7467532467532467\n"
          ]
        }
      ],
      "source": [
        "from sklearn.metrics import confusion_matrix, classification_report, accuracy_score\n",
        "print(\"<-------------------Confusion metrics results is ------------->\\n : {}\".format(confusion_matrix(y_test, prediction)))\n",
        "print(\"<------------------Classification report is---------------> \\n: {}\".format(classification_report(y_test, prediction)))\n",
        "print(\"<------------------ Accuracy score----------------> : {}\".format(accuracy_score(y_test, prediction)))"
      ]
    },
    {
      "cell_type": "markdown",
      "metadata": {
        "id": "qM8yKUg3wJlG"
      },
      "source": [
        "### The main parameters used by a Random Forest\n",
        "- criterion = the function used to evaluate the quality of a split\n",
        "- max_depth = maximum number of levels allowed in each tree\n",
        "- max_features = maximum number of features considered when splitting a node.\n",
        "- min_samples_leaf = minimum number of samples which can be stored in a tree leaf.\n",
        "- min_samples_split = minimum number of samples necessary in a node to cause node splitting.\n",
        "- n_estimarors = number of trees in the ensemble."
      ]
    },
    {
      "cell_type": "code",
      "execution_count": null,
      "metadata": {
        "id": "FZQurv1mwJlH",
        "outputId": "a45c0eec-8b6c-46b5-e731-798ab22c6dc9"
      },
      "outputs": [
        {
          "name": "stdout",
          "output_type": "stream",
          "text": [
            "<-------------------Confusion metrics results is ------------->\n",
            " : [[83 16]\n",
            " [21 34]]\n",
            "<------------------Classification report is---------------> \n",
            ":               precision    recall  f1-score   support\n",
            "\n",
            "           0       0.80      0.84      0.82        99\n",
            "           1       0.68      0.62      0.65        55\n",
            "\n",
            "    accuracy                           0.76       154\n",
            "   macro avg       0.74      0.73      0.73       154\n",
            "weighted avg       0.76      0.76      0.76       154\n",
            "\n",
            "<------------------ Accuracy score----------------> : 0.7597402597402597\n"
          ]
        }
      ],
      "source": [
        "## Manual HyperParameter Tunning\n",
        "model = RandomForestClassifier(n_estimators=500, criterion='gini',\n",
        "                               max_features='sqrt', min_samples_leaf=10, random_state=100).fit(X_train, y_train)\n",
        "prediction = model.predict(X_test)\n",
        "print(\"<-------------------Confusion metrics results is ------------->\\n : {}\".format(confusion_matrix(y_test, prediction)))\n",
        "print(\"<------------------Classification report is---------------> \\n: {}\".format(classification_report(y_test, prediction)))\n",
        "print(\"<------------------ Accuracy score----------------> : {}\".format(accuracy_score(y_test, prediction)))"
      ]
    },
    {
      "cell_type": "markdown",
      "metadata": {
        "id": "k64Hr18PwJlI"
      },
      "source": [
        "### Randomized SearchCV"
      ]
    },
    {
      "cell_type": "code",
      "execution_count": null,
      "metadata": {
        "id": "U3b2h-FGwJlJ",
        "outputId": "23c6efa9-ca9a-4a09-8913-7230ab43e94b"
      },
      "outputs": [
        {
          "name": "stdout",
          "output_type": "stream",
          "text": [
            "{'n_estimators': [200, 400, 600, 800, 1000, 1200, 1400, 1600, 1800, 2000], 'max_features': ['auto', 'sqrt', 'log2'], 'max_depth': [10, 120, 230, 340, 450, 560, 670, 780, 890, 1000], 'min_samples_split': [1, 2, 3, 4, 5], 'min_samples_leaf': [1, 2, 4, 6, 8], 'criterion': ['entropy', 'gini']}\n"
          ]
        }
      ],
      "source": [
        "from sklearn.model_selection import RandomizedSearchCV\n",
        "\n",
        "# Number of trees in random forest\n",
        "n_estimators = [int(x) for x in np.linspace(start=200, stop=2000, num=10)]\n",
        "\n",
        "# Number of featuers to consider at every split\n",
        "max_features = ['auto', 'sqrt', 'log2']\n",
        "\n",
        "# Maximum number of levels in tree\n",
        "max_depth = [int(x) for x in np.linspace(10, 1000, 10)]\n",
        "\n",
        "# Minimum number of samples required to split a node\n",
        ", min_samples_split = [1, 2, 3, 4, 5, 7, 9]\n",
        "\n",
        "# Minimum number of samples required at each leaf node\n",
        "min_samples_leaf =  [1, 2, 4, 6, 8]\n",
        "\n",
        "# Create thre random grid\n",
        "random_grid = {\n",
        "    'n_estimators': n_estimators,\n",
        "    'max_features': max_features,\n",
        "    'max_depth': max_depth,\n",
        "    'min_samples_split': min_samples_split,\n",
        "    'min_samples_leaf': min_samples_leaf,\n",
        "    'criterion': ['entropy', 'gini']\n",
        "}\n",
        "\n",
        "print(random_grid)"
      ]
    },
    {
      "cell_type": "code",
      "execution_count": null,
      "metadata": {
        "id": "hUKWYsDFwJlK"
      },
      "outputs": [],
      "source": [
        "rf = RandomForestClassifier()\n",
        "rf_randomcv = RandomizedSearchCV(estimator=rf, param_distributions=random_grid,\n",
        "                                n_iter=100, cv=3, verbose=2, random_state=100, n_jobs=-1)"
      ]
    },
    {
      "cell_type": "code",
      "execution_count": null,
      "metadata": {
        "id": "slapzL7awJlL",
        "outputId": "b402ab47-5fd7-46db-aa2b-fb03e4f161d6"
      },
      "outputs": [
        {
          "name": "stdout",
          "output_type": "stream",
          "text": [
            "Fitting 3 folds for each of 100 candidates, totalling 300 fits\n"
          ]
        },
        {
          "name": "stderr",
          "output_type": "stream",
          "text": [
            "[Parallel(n_jobs=-1)]: Using backend LokyBackend with 4 concurrent workers.\n",
            "[Parallel(n_jobs=-1)]: Done  33 tasks      | elapsed:  2.5min\n",
            "[Parallel(n_jobs=-1)]: Done 154 tasks      | elapsed:  6.9min\n",
            "[Parallel(n_jobs=-1)]: Done 300 out of 300 | elapsed: 11.3min finished\n"
          ]
        },
        {
          "data": {
            "text/plain": [
              "RandomizedSearchCV(cv=3, estimator=RandomForestClassifier(), n_iter=100,\n",
              "                   n_jobs=-1,\n",
              "                   param_distributions={'criterion': ['entropy', 'gini'],\n",
              "                                        'max_depth': [10, 120, 230, 340, 450,\n",
              "                                                      560, 670, 780, 890,\n",
              "                                                      1000],\n",
              "                                        'max_features': ['auto', 'sqrt',\n",
              "                                                         'log2'],\n",
              "                                        'min_samples_leaf': [1, 2, 4, 6, 8],\n",
              "                                        'min_samples_split': [1, 2, 3, 4, 5],\n",
              "                                        'n_estimators': [200, 400, 600, 800,\n",
              "                                                         1000, 1200, 1400, 1600,\n",
              "                                                         1800, 2000]},\n",
              "                   random_state=100, verbose=2)"
            ]
          },
          "execution_count": 60,
          "metadata": {},
          "output_type": "execute_result"
        }
      ],
      "source": [
        "## fit the randomized model\n",
        "rf_randomcv.fit(X_train, y_train)"
      ]
    },
    {
      "cell_type": "code",
      "execution_count": null,
      "metadata": {
        "id": "uc46DGLzwJlM",
        "outputId": "c43bbb18-a0ab-4dc2-d8ad-abe20ff9d59f"
      },
      "outputs": [
        {
          "data": {
            "text/plain": [
              "{'n_estimators': 600,\n",
              " 'min_samples_split': 2,\n",
              " 'min_samples_leaf': 8,\n",
              " 'max_features': 'log2',\n",
              " 'max_depth': 890,\n",
              " 'criterion': 'gini'}"
            ]
          },
          "execution_count": 62,
          "metadata": {},
          "output_type": "execute_result"
        }
      ],
      "source": [
        "rf_randomcv.best_params_"
      ]
    },
    {
      "cell_type": "code",
      "execution_count": null,
      "metadata": {
        "id": "KeObe5E9wJlN"
      },
      "outputs": [],
      "source": [
        "randomcv_best_params = rf_randomcv.best_estimator_"
      ]
    },
    {
      "cell_type": "code",
      "execution_count": null,
      "metadata": {
        "id": "kOAHjCw3wJlO",
        "outputId": "ad3234d8-c001-496f-9c0c-b9e29e56a400"
      },
      "outputs": [
        {
          "name": "stdout",
          "output_type": "stream",
          "text": [
            "<-------------------Confusion metrics results is ------------->\n",
            " : [[82 17]\n",
            " [16 39]]\n",
            "<------------------Classification report is---------------> \n",
            ":               precision    recall  f1-score   support\n",
            "\n",
            "           0       0.84      0.83      0.83        99\n",
            "           1       0.70      0.71      0.70        55\n",
            "\n",
            "    accuracy                           0.79       154\n",
            "   macro avg       0.77      0.77      0.77       154\n",
            "weighted avg       0.79      0.79      0.79       154\n",
            "\n",
            "<------------------ Accuracy score----------------> : 0.7857142857142857\n"
          ]
        }
      ],
      "source": [
        "y_pred = randomcv_best_params.predict(X_test)\n",
        "print(\"<-------------------Confusion metrics results is ------------->\\n : {}\".format(confusion_matrix(y_test, y_pred)))\n",
        "print(\"<------------------Classification report is---------------> \\n: {}\".format(classification_report(y_test, y_pred)))\n",
        "print(\"<------------------ Accuracy score----------------> : {}\".format(accuracy_score(y_test, y_pred)))"
      ]
    },
    {
      "cell_type": "markdown",
      "metadata": {
        "id": "01R_gJzRwJlP"
      },
      "source": [
        "### GridSearchCV"
      ]
    },
    {
      "cell_type": "code",
      "execution_count": null,
      "metadata": {
        "id": "OA0-YKFfwJlP",
        "outputId": "05d04ce0-b8f1-42b4-b8ad-3f5a272b6d2c"
      },
      "outputs": [
        {
          "name": "stdout",
          "output_type": "stream",
          "text": [
            "{'criterion': ['gini'], 'max_depth': [890], 'max_features': ['log2'], 'min_samples_leaf': [8, 10, 12], 'min_samples_split': [0, 1, 2, 3, 10], 'n_estimators': [400, 500, 600, 700, 800, 0]}\n"
          ]
        }
      ],
      "source": [
        "from sklearn.model_selection import GridSearchCV\n",
        "\n",
        "param_grid = {\n",
        "    'criterion': [rf_randomcv.best_params_['criterion']],\n",
        "    'max_depth': [rf_randomcv.best_params_['max_depth']],\n",
        "    'max_features': [rf_randomcv.best_params_['max_features']],\n",
        "    'min_samples_leaf': [rf_randomcv.best_params_['min_samples_leaf'],\n",
        "                         rf_randomcv.best_params_['min_samples_leaf'] + 2,\n",
        "                         rf_randomcv.best_params_['min_samples_leaf'] + 4],\n",
        "    'min_samples_split': [rf_randomcv.best_params_['min_samples_split'] - 2,\n",
        "                          rf_randomcv.best_params_['min_samples_split'] - 1,\n",
        "                          rf_randomcv.best_params_['min_samples_split'],\n",
        "                          rf_randomcv.best_params_['min_samples_split'] + 1,\n",
        "                          rf_randomcv.best_params_['min_samples_leaf'] + 2],\n",
        "    'n_estimators': [rf_randomcv.best_params_['n_estimators'] - 200,\n",
        "                    rf_randomcv.best_params_['n_estimators'] - 100,\n",
        "                    rf_randomcv.best_params_['n_estimators'],\n",
        "                    rf_randomcv.best_params_['n_estimators'] + 100,\n",
        "                    rf_randomcv.best_params_['n_estimators'] + 200,\n",
        "                    rf_randomcv.best_params_['n_estimators'] - 600,]\n",
        "}\n",
        "\n",
        "print(param_grid)"
      ]
    },
    {
      "cell_type": "code",
      "execution_count": null,
      "metadata": {
        "id": "xlbtdCpVwJlQ",
        "outputId": "91e30e01-166c-4a0d-fbf9-b86fe2a7f15b"
      },
      "outputs": [
        {
          "data": {
            "text/plain": [
              "90"
            ]
          },
          "execution_count": 73,
          "metadata": {},
          "output_type": "execute_result"
        }
      ],
      "source": [
        "1 * 1 * 1 * 3 * 5 * 6"
      ]
    },
    {
      "cell_type": "code",
      "execution_count": null,
      "metadata": {
        "id": "yQVW9oyowJlR",
        "outputId": "c5de31bd-d7a3-42fe-82f7-27e4cb491acc"
      },
      "outputs": [
        {
          "name": "stdout",
          "output_type": "stream",
          "text": [
            "Fitting 10 folds for each of 90 candidates, totalling 900 fits\n"
          ]
        },
        {
          "name": "stderr",
          "output_type": "stream",
          "text": [
            "[Parallel(n_jobs=-1)]: Using backend LokyBackend with 4 concurrent workers.\n",
            "[Parallel(n_jobs=-1)]: Done  33 tasks      | elapsed:   19.7s\n",
            "[Parallel(n_jobs=-1)]: Done 154 tasks      | elapsed:  1.5min\n",
            "[Parallel(n_jobs=-1)]: Done 357 tasks      | elapsed:  4.6min\n",
            "[Parallel(n_jobs=-1)]: Done 640 tasks      | elapsed:  8.7min\n",
            "[Parallel(n_jobs=-1)]: Done 900 out of 900 | elapsed: 11.8min finished\n"
          ]
        },
        {
          "data": {
            "text/plain": [
              "GridSearchCV(cv=10, estimator=RandomForestClassifier(), n_jobs=-1,\n",
              "             param_grid={'criterion': ['gini'], 'max_depth': [890],\n",
              "                         'max_features': ['log2'],\n",
              "                         'min_samples_leaf': [8, 10, 12],\n",
              "                         'min_samples_split': [0, 1, 2, 3, 10],\n",
              "                         'n_estimators': [400, 500, 600, 700, 800, 0]},\n",
              "             verbose=2)"
            ]
          },
          "execution_count": 74,
          "metadata": {},
          "output_type": "execute_result"
        }
      ],
      "source": [
        "rf =  RandomForestClassifier()\n",
        "grid_search = GridSearchCV(estimator=rf, param_grid=param_grid, cv=10, n_jobs=-1, verbose=2)\n",
        "grid_search.fit(X_train, y_train)"
      ]
    },
    {
      "cell_type": "code",
      "execution_count": null,
      "metadata": {
        "id": "jvMa8Kg-wJlR",
        "outputId": "4a01395c-e10b-4479-f6b5-13d195ca1636"
      },
      "outputs": [
        {
          "data": {
            "text/plain": [
              "RandomForestClassifier(max_depth=890, max_features='log2', min_samples_leaf=8,\n",
              "                       min_samples_split=3, n_estimators=400)"
            ]
          },
          "execution_count": 75,
          "metadata": {},
          "output_type": "execute_result"
        }
      ],
      "source": [
        "grid_search.best_estimator_"
      ]
    },
    {
      "cell_type": "code",
      "execution_count": null,
      "metadata": {
        "id": "k9SgUYtnwJlS"
      },
      "outputs": [],
      "source": [
        "best_grid = grid_search.best_estimator_"
      ]
    },
    {
      "cell_type": "code",
      "execution_count": null,
      "metadata": {
        "id": "w7J7Mbg3wJlS",
        "outputId": "fb581a3e-5fe9-4875-e550-c4e0466aaa76"
      },
      "outputs": [
        {
          "name": "stdout",
          "output_type": "stream",
          "text": [
            "<-------------------Confusion metrics results is ------------->\n",
            " : [[81 18]\n",
            " [17 38]]\n",
            "<------------------Classification report is---------------> \n",
            ":               precision    recall  f1-score   support\n",
            "\n",
            "           0       0.83      0.82      0.82        99\n",
            "           1       0.68      0.69      0.68        55\n",
            "\n",
            "    accuracy                           0.77       154\n",
            "   macro avg       0.75      0.75      0.75       154\n",
            "weighted avg       0.77      0.77      0.77       154\n",
            "\n",
            "<------------------ Accuracy score----------------> : 0.7727272727272727\n"
          ]
        }
      ],
      "source": [
        "y_pred = best_grid.predict(X_test)\n",
        "print(\"<-------------------Confusion metrics results is ------------->\\n : {}\".format(confusion_matrix(y_test, y_pred)))\n",
        "print(\"<------------------Classification report is---------------> \\n: {}\".format(classification_report(y_test, y_pred)))\n",
        "print(\"<------------------ Accuracy score----------------> : {}\".format(accuracy_score(y_test, y_pred)))"
      ]
    },
    {
      "cell_type": "markdown",
      "metadata": {
        "id": "YxQdSw50wJlT"
      },
      "source": [
        "### Automated Hyperparameter Tuning\n",
        "Automated Hyperparameter Tuning can be done by using techniques such as\n",
        "- Bayesian Optimization\n",
        "- Gradient Descent\n",
        "- Evolutionary Algorithms\n",
        "\n",
        "### Bayesian Optimization\n",
        "It uses the probability to find the minimum of a function. The final aim to find the input value of a funciton which can gives us the lowest output value. It usually performs better than random grid and manual search providing better performance in the testing phase and reduced optimization time. In Hyperopt, Bayesian Optimization can be implemented giving 3 main parameters to the function fmin.\n",
        "- Objective Function = defines the loss function to minimize\n",
        "- Domain Space = define the range of input value of test (in Bayesian Optimization this space creates a probability distribution for each of the used Hyperparameters)\n",
        "- Optimization Algorithm = defines the search algorithm to use to select the best input values to use in each new iteration."
      ]
    },
    {
      "cell_type": "code",
      "execution_count": null,
      "metadata": {
        "id": "MydtQ2LZwJlT"
      },
      "outputs": [],
      "source": [
        "from hyperopt import hp, fmin, tpe, STATUS_OK, Trials"
      ]
    },
    {
      "cell_type": "code",
      "execution_count": null,
      "metadata": {
        "id": "5x_vv0u7wJlU"
      },
      "outputs": [],
      "source": [
        "## hp is used to define whether we are defining interger values, floating values, or choice function\n",
        "space = {\n",
        "    'criterion': hp.choice('criterion', ['entropy', 'gini']),\n",
        "    'max_depth': hp.quniform('max_depth', 10, 1200, 10),\n",
        "    'max_featuers': hp.choice('max_features', ['auto', 'sqrt', 'log2', None]),\n",
        "    'min_samples_leaf': hp.uniform('min_samples_leaf', 0, 0.5),\n",
        "    'min_samples_split': hp.uniform('min_samples_split', 0, 1),\n",
        "    'n_estimators': hp.choice('n_estimators', [10, 50, 300, 750, 1200, 1300, 1500])\n",
        "}"
      ]
    },
    {
      "cell_type": "code",
      "execution_count": null,
      "metadata": {
        "id": "fQyWZhL7wJlU",
        "outputId": "dee55e12-f1e8-4eea-dc8b-2e844b74c7be"
      },
      "outputs": [
        {
          "data": {
            "text/plain": [
              "{'criterion': <hyperopt.pyll.base.Apply at 0x19eb0d21580>,\n",
              " 'max_depth': <hyperopt.pyll.base.Apply at 0x19eb0d21730>,\n",
              " 'max_featuers': <hyperopt.pyll.base.Apply at 0x19eb0d21850>,\n",
              " 'min_samples_leaf': <hyperopt.pyll.base.Apply at 0x19eb0d21a30>,\n",
              " 'min_samples_split': <hyperopt.pyll.base.Apply at 0x19eb0d21a60>,\n",
              " 'n_estimators': <hyperopt.pyll.base.Apply at 0x19eb0d21b80>}"
            ]
          },
          "execution_count": 90,
          "metadata": {},
          "output_type": "execute_result"
        }
      ],
      "source": [
        "space"
      ]
    },
    {
      "cell_type": "code",
      "execution_count": null,
      "metadata": {
        "id": "CGofWXIlwJlV"
      },
      "outputs": [],
      "source": [
        "def objective(space):\n",
        "    model = RandomForestClassifier(criterion=space['criterion'], max_depth=space['max_depth'],\n",
        "                                  max_features=space['max_featuers'], min_samples_leaf=space['min_samples_leaf'],\n",
        "                                  n_estimators=space['n_estimators'])\n",
        "\n",
        "    accuracy = cross_val_score(model, X_train, y_train, cv=5).mean()\n",
        "    \n",
        "    # We aim to maximize accuracy, therefore we return it as a negative value\n",
        "    return {'loss': -accuracy, 'status': STATUS_OK}"
      ]
    },
    {
      "cell_type": "code",
      "execution_count": null,
      "metadata": {
        "id": "jm-S9WxywJlV",
        "outputId": "4ae92ce4-fe4b-46fb-a1af-791e22daeb1b"
      },
      "outputs": [
        {
          "name": "stdout",
          "output_type": "stream",
          "text": [
            "100%|████████████████████████████████████████████████| 80/80 [24:47<00:00, 18.60s/trial, best loss: -0.783406637345062]\n"
          ]
        },
        {
          "data": {
            "text/plain": [
              "{'criterion': 0,\n",
              " 'max_depth': 180.0,\n",
              " 'max_features': 0,\n",
              " 'min_samples_leaf': 0.01667005658968035,\n",
              " 'min_samples_split': 0.1474361805280623,\n",
              " 'n_estimators': 6}"
            ]
          },
          "execution_count": 95,
          "metadata": {},
          "output_type": "execute_result"
        }
      ],
      "source": [
        "from sklearn.model_selection import cross_val_score\n",
        "trials = Trials() # it is responsible for minimizing the function\n",
        "best = fmin(fn=objective,           \n",
        "           space=space, \n",
        "           algo=tpe.suggest, \n",
        "           max_evals=80, \n",
        "           trials=trials)\n",
        "best"
      ]
    },
    {
      "cell_type": "code",
      "execution_count": null,
      "metadata": {
        "id": "ucmzBfqTwJlW",
        "outputId": "4e344635-5812-4ddd-e93d-366f7dcb73a4"
      },
      "outputs": [
        {
          "name": "stdout",
          "output_type": "stream",
          "text": [
            "entropy\n",
            "auto\n",
            "1500\n"
          ]
        }
      ],
      "source": [
        "crit = {0: 'entropy', 1: 'gini'}\n",
        "feat = {0:'auto', 1: 'sqrt', 2: 'log2', 3: None}\n",
        "est = {0:10, 1: 50, 2:300, 4: 1200, 5:1300, 6: 1500}\n",
        "\n",
        "print(crit[best['criterion']])\n",
        "print(feat[best['max_features']])\n",
        "print(est[best['n_estimators']])"
      ]
    },
    {
      "cell_type": "code",
      "execution_count": null,
      "metadata": {
        "id": "Al5k28WrwJlX",
        "outputId": "4f2caeb8-38e4-4d09-b53a-aa25951f21c2"
      },
      "outputs": [
        {
          "name": "stdout",
          "output_type": "stream",
          "text": [
            "<-------------------Confusion metrics results is ------------->\n",
            " : [[87 12]\n",
            " [22 33]]\n",
            "<------------------Classification report is---------------> \n",
            ":               precision    recall  f1-score   support\n",
            "\n",
            "           0       0.80      0.88      0.84        99\n",
            "           1       0.73      0.60      0.66        55\n",
            "\n",
            "    accuracy                           0.78       154\n",
            "   macro avg       0.77      0.74      0.75       154\n",
            "weighted avg       0.78      0.78      0.77       154\n",
            "\n",
            "<------------------ Accuracy score----------------> : 0.7792207792207793\n"
          ]
        }
      ],
      "source": [
        "trainedforest = RandomForestClassifier(criterion=crit[best['criterion']], max_depth=best['max_depth'],\n",
        "                                      max_features=feat[best['max_features']], min_samples_leaf=best['min_samples_leaf'],\n",
        "                                      min_samples_split=best['min_samples_split'], n_estimators=est[best['n_estimators']]).fit(X_train, y_train)\n",
        "predictionforest = trainedforest.predict(X_test)\n",
        "print(\"<-------------------Confusion metrics results is ------------->\\n : {}\".format(confusion_matrix(y_test, predictionforest)))\n",
        "print(\"<------------------Classification report is---------------> \\n: {}\".format(classification_report(y_test, predictionforest)))\n",
        "print(\"<------------------ Accuracy score----------------> : {}\".format(accuracy_score(y_test, predictionforest)))"
      ]
    },
    {
      "cell_type": "code",
      "execution_count": null,
      "metadata": {
        "id": "x8iKFBG5wJlX"
      },
      "outputs": [],
      "source": [
        ""
      ]
    }
  ],
  "metadata": {
    "kernelspec": {
      "display_name": "Python 3",
      "language": "python",
      "name": "python3"
    },
    "language_info": {
      "codemirror_mode": {
        "name": "ipython",
        "version": 3
      },
      "file_extension": ".py",
      "mimetype": "text/x-python",
      "name": "python",
      "nbconvert_exporter": "python",
      "pygments_lexer": "ipython3",
      "version": "3.8.5"
    },
    "colab": {
      "name": "Hyper_Parameter_Tunning.ipynb",
      "provenance": [],
      "include_colab_link": true
    }
  },
  "nbformat": 4,
  "nbformat_minor": 0
}