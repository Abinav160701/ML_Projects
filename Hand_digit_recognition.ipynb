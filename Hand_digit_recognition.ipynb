{
  "nbformat": 4,
  "nbformat_minor": 0,
  "metadata": {
    "colab": {
      "name": "Hand digit recognition.ipynb",
      "provenance": [],
      "collapsed_sections": [],
      "authorship_tag": "ABX9TyMDqmcEm4EQOSUE7rYWZCvr",
      "include_colab_link": true
    },
    "kernelspec": {
      "name": "python3",
      "display_name": "Python 3"
    },
    "language_info": {
      "name": "python"
    }
  },
  "cells": [
    {
      "cell_type": "markdown",
      "metadata": {
        "id": "view-in-github",
        "colab_type": "text"
      },
      "source": [
        "<a href=\"https://colab.research.google.com/github/Abinav160701/ML_Projects/blob/master/Hand_digit_recognition.ipynb\" target=\"_parent\"><img src=\"https://colab.research.google.com/assets/colab-badge.svg\" alt=\"Open In Colab\"/></a>"
      ]
    },
    {
      "cell_type": "code",
      "execution_count": null,
      "metadata": {
        "id": "d-NhwWSzznfR"
      },
      "outputs": [],
      "source": [
        "from IPython.display import Image    ## to display images\n",
        "import numpy as np \n",
        "import pandas as pd\n",
        "import seaborn as sns\n",
        "from sklearn.preprocessing import MinMaxScaler ## for scaling the input data\n",
        "from sklearn.model_selection import train_test_split \n",
        "from sklearn.datasets import load_digits       ## mnist data\n",
        "from sklearn.linear_model import LogisticRegression\n",
        "from sklearn.metrics import classification_report, confusion_matrix, accuracy_score\n",
        "import matplotlib.pyplot as plt \n",
        "%matplotlib inline"
      ]
    },
    {
      "cell_type": "code",
      "source": [
        "digits = load_digits()"
      ],
      "metadata": {
        "id": "Ivh--1cSzt-C"
      },
      "execution_count": null,
      "outputs": []
    },
    {
      "cell_type": "code",
      "source": [
        "data = digits.images   ## features from digits\n",
        "target = digits.target ## labels from digits"
      ],
      "metadata": {
        "id": "o6oQwp_MzwWA"
      },
      "execution_count": null,
      "outputs": []
    },
    {
      "cell_type": "code",
      "source": [
        "plt.figure(figsize=(10, 10))\n",
        "for i in range(16):\n",
        "    plt.subplot(4, 4, i + 1)\n",
        "    plt.xticks([])\n",
        "    plt.yticks([])\n",
        "    plt.imshow(data[i], cmap='gray')\n",
        "    plt.xlabel(target[i])\n",
        "plt.show()"
      ],
      "metadata": {
        "colab": {
          "base_uri": "https://localhost:8080/",
          "height": 589
        },
        "id": "18TzaRVzzzM5",
        "outputId": "d2a14075-e0f4-414f-b293-51aa413fa58c"
      },
      "execution_count": null,
      "outputs": [
        {
          "output_type": "display_data",
          "data": {
            "text/plain": [
              "<Figure size 720x720 with 16 Axes>"
            ],
            "image/png": "[encoded data removed]"
          },
          "metadata": {}
        }
      ]
    },
    {
      "cell_type": "code",
      "source": [
        "print(\"Data shape is: \", data.shape)\n",
        "print(\"Target shape is: \", target.shape)"
      ],
      "metadata": {
        "colab": {
          "base_uri": "https://localhost:8080/"
        },
        "id": "qnFn2QBOz6Bh",
        "outputId": "301146f1-1590-4937-c3fc-9d416bbcf1c7"
      },
      "execution_count": null,
      "outputs": [
        {
          "output_type": "stream",
          "name": "stdout",
          "text": [
            "Data shape is:  (1797, 8, 8)\n",
            "Target shape is:  (1797,)\n"
          ]
        }
      ]
    },
    {
      "cell_type": "code",
      "source": [
        "data = data.reshape((1797, 64, ))"
      ],
      "metadata": {
        "id": "scU4Gf8Jz-GC"
      },
      "execution_count": null,
      "outputs": []
    },
    {
      "cell_type": "code",
      "source": [
        "min_max_sc = MinMaxScaler()\n",
        "X = min_max_sc.fit_transform(data)"
      ],
      "metadata": {
        "id": "_2xKeTdv0AKb"
      },
      "execution_count": null,
      "outputs": []
    },
    {
      "cell_type": "code",
      "source": [
        "X_train, X_test, y_train, y_test = train_test_split(X, target, test_size=0.25, random_state=42)"
      ],
      "metadata": {
        "id": "b67E3dg00SDA"
      },
      "execution_count": null,
      "outputs": []
    },
    {
      "cell_type": "code",
      "source": [
        "print(\"X_train shape: \", X_train.shape)\n",
        "print(\"X_test shape: \", X_test.shape)\n",
        "print(\"y_train shape: \", y_train.shape)\n",
        "print(\"y_test shape: \", y_test.shape)"
      ],
      "metadata": {
        "colab": {
          "base_uri": "https://localhost:8080/"
        },
        "id": "YH_sABN20T0A",
        "outputId": "3a12c1dd-1add-48e6-be92-91da61aaf61f"
      },
      "execution_count": null,
      "outputs": [
        {
          "output_type": "stream",
          "name": "stdout",
          "text": [
            "X_train shape:  (1347, 64)\n",
            "X_test shape:  (450, 64)\n",
            "y_train shape:  (1347,)\n",
            "y_test shape:  (450,)\n"
          ]
        }
      ]
    },
    {
      "cell_type": "code",
      "source": [
        "## logistic Regression\n",
        "lg = LogisticRegression()\n",
        "\n",
        "## training\n",
        "lg.fit(X_train, y_train)"
      ],
      "metadata": {
        "colab": {
          "base_uri": "https://localhost:8080/"
        },
        "id": "y_q9mgjB0VT9",
        "outputId": "de19edb1-a873-446a-8ad1-c8c9a2fd68c8"
      },
      "execution_count": null,
      "outputs": [
        {
          "output_type": "stream",
          "name": "stderr",
          "text": [
            "/usr/local/lib/python3.7/dist-packages/sklearn/linear_model/_logistic.py:818: ConvergenceWarning: lbfgs failed to converge (status=1):\n",
            "STOP: TOTAL NO. of ITERATIONS REACHED LIMIT.\n",
            "\n",
            "Increase the number of iterations (max_iter) or scale the data as shown in:\n",
            "    https://scikit-learn.org/stable/modules/preprocessing.html\n",
            "Please also refer to the documentation for alternative solver options:\n",
            "    https://scikit-learn.org/stable/modules/linear_model.html#logistic-regression\n",
            "  extra_warning_msg=_LOGISTIC_SOLVER_CONVERGENCE_MSG,\n"
          ]
        },
        {
          "output_type": "execute_result",
          "data": {
            "text/plain": [
              "LogisticRegression()"
            ]
          },
          "metadata": {},
          "execution_count": 12
        }
      ]
    },
    {
      "cell_type": "code",
      "source": [
        "\n",
        "pred = lg.predict(X_test)"
      ],
      "metadata": {
        "id": "r-2pFOHM0Xsp"
      },
      "execution_count": null,
      "outputs": []
    },
    {
      "cell_type": "code",
      "source": [
        "print(\"---------------------------------------------CLassification Report----------------------------------------------\")\n",
        "print(classification_report(y_test, pred))\n",
        "\n",
        "print(\"-------------------------------------------Accuracy Score -------------------------------------------------------\")\n",
        "print(accuracy_score(y_test, pred))\n",
        "\n",
        "print(\"-----------------------------------------------Confusion Matrix -----------------------------------------------\")\n",
        "plt.figure(figsize=(10, 10))\n",
        "sns.heatmap(confusion_matrix(y_test, pred), annot=True)"
      ],
      "metadata": {
        "colab": {
          "base_uri": "https://localhost:8080/",
          "height": 974
        },
        "id": "pVfAaK0I0dr6",
        "outputId": "0a54d346-033e-4940-857e-d99a42e9d059"
      },
      "execution_count": null,
      "outputs": [
        {
          "output_type": "stream",
          "name": "stdout",
          "text": [
            "---------------------------------------------CLassification Report----------------------------------------------\n",
            "              precision    recall  f1-score   support\n",
            "\n",
            "           0       1.00      1.00      1.00        43\n",
            "           1       0.97      0.97      0.97        37\n",
            "           2       0.97      1.00      0.99        38\n",
            "           3       1.00      0.93      0.97        46\n",
            "           4       1.00      0.98      0.99        55\n",
            "           5       0.93      0.95      0.94        59\n",
            "           6       0.98      0.98      0.98        45\n",
            "           7       1.00      0.98      0.99        41\n",
            "           8       0.93      0.97      0.95        38\n",
            "           9       0.94      0.96      0.95        48\n",
            "\n",
            "    accuracy                           0.97       450\n",
            "   macro avg       0.97      0.97      0.97       450\n",
            "weighted avg       0.97      0.97      0.97       450\n",
            "\n",
            "-------------------------------------------Accuracy Score -------------------------------------------------------\n",
            "0.9711111111111111\n",
            "-----------------------------------------------Confusion Matrix -----------------------------------------------\n"
          ]
        },
        {
          "output_type": "execute_result",
          "data": {
            "text/plain": [
              "<matplotlib.axes._subplots.AxesSubplot at 0x7f5e5b2e9b10>"
            ]
          },
          "metadata": {},
          "execution_count": 14
        },
        {
          "output_type": "display_data",
          "data": {
            "text/plain": [
              "<Figure size 720x720 with 2 Axes>"
            ],
            "image/png": "[encoded data removed]"
          },
          "metadata": {
            "needs_background": "light"
          }
        }
      ]
    },
    {
      "cell_type": "code",
      "source": [
        ""
      ],
      "metadata": {
        "colab": {
          "base_uri": "https://localhost:8080/"
        },
        "id": "zZBc4vd80fft",
        "outputId": "7ffad877-c064-48a2-a236-bb0c0f9f8241"
      },
      "execution_count": null,
      "outputs": [
        {
          "output_type": "execute_result",
          "data": {
            "text/plain": [
              "array([0, 1, 2, ..., 8, 9, 8])"
            ]
          },
          "metadata": {},
          "execution_count": 23
        }
      ]
    },
    {
      "cell_type": "code",
      "source": [
        ""
      ],
      "metadata": {
        "id": "8L1SGC690nJR"
      },
      "execution_count": null,
      "outputs": []
    }
  ]
}