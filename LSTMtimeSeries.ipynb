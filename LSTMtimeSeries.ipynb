{
  "nbformat": 4,
  "nbformat_minor": 0,
  "metadata": {
    "colab": {
      "name": "LSTMtimeSeries.ipynb",
      "provenance": [],
      "authorship_tag": "ABX9TyM8vKfRLMgg13YrYkznoqWv",
      "include_colab_link": true
    },
    "kernelspec": {
      "name": "python3",
      "display_name": "Python 3"
    },
    "language_info": {
      "name": "python"
    }
  },
  "cells": [
    {
      "cell_type": "markdown",
      "metadata": {
        "id": "view-in-github",
        "colab_type": "text"
      },
      "source": [
        "<a href=\"https://colab.research.google.com/github/Abinav160701/ML_Projects/blob/master/LSTMtimeSeries.ipynb\" target=\"_parent\"><img src=\"https://colab.research.google.com/assets/colab-badge.svg\" alt=\"Open In Colab\"/></a>"
      ]
    },
    {
      "cell_type": "code",
      "execution_count": 3,
      "metadata": {
        "id": "yh9UOcmP0nOe"
      },
      "outputs": [],
      "source": [
        "import numpy as np\n",
        "from tensorflow.keras.models import Sequential\n",
        "from tensorflow.keras.layers import LSTM,Dense,Flatten"
      ]
    },
    {
      "cell_type": "code",
      "source": [
        "# prepare independent features and dependent features\n",
        "def prepare_data(timeseries_data, n_features):\n",
        "    X, y = [], []\n",
        "    for i in range(len(timeseries_data)):\n",
        "        end_ix = i + n_features # 0->3, 1->4, 2->5, \n",
        "        if end_ix > len(timeseries_data) - 1:\n",
        "            break\n",
        "        # gather input and output parts of the pattern\n",
        "        seq_x, seq_y = timeseries_data[i:end_ix], timeseries_data[end_ix]\n",
        "        X.append(seq_x)\n",
        "        y.append(seq_y)\n",
        "    return np.array(X), np.array(y)"
      ],
      "metadata": {
        "id": "z3_uzQiH00eJ"
      },
      "execution_count": 4,
      "outputs": []
    },
    {
      "cell_type": "code",
      "source": [
        "# define input sequence\n",
        "timeseries_data = [110, 125, 133, 146, 158, 172, 187, 196, 210]\n",
        "\n",
        "# choose a number of time steps\n",
        "n_steps = 3\n",
        "\n",
        "# split into samples\n",
        "X, y = prepare_data(timeseries_data, n_steps)"
      ],
      "metadata": {
        "id": "KbAQQKD01D1t"
      },
      "execution_count": 5,
      "outputs": []
    },
    {
      "cell_type": "code",
      "source": [
        "y"
      ],
      "metadata": {
        "colab": {
          "base_uri": "https://localhost:8080/"
        },
        "id": "p3Pz-iLY1GwY",
        "outputId": "326c5d27-f8e1-4808-b51e-9681ac9a2193"
      },
      "execution_count": 7,
      "outputs": [
        {
          "output_type": "execute_result",
          "data": {
            "text/plain": [
              "array([146, 158, 172, 187, 196, 210])"
            ]
          },
          "metadata": {},
          "execution_count": 7
        }
      ]
    },
    {
      "cell_type": "code",
      "source": [
        "# reshape from [samples, timesptes] into [samples, timesteps, features]\n",
        "n_features = 1\n",
        "X = X.reshape(X.shape[0], X.shape[1], n_features)"
      ],
      "metadata": {
        "id": "Yu_Lm-341Hdg"
      },
      "execution_count": 8,
      "outputs": []
    },
    {
      "cell_type": "code",
      "source": [
        "X"
      ],
      "metadata": {
        "colab": {
          "base_uri": "https://localhost:8080/"
        },
        "id": "IygiGEfR1SYD",
        "outputId": "3686e9a5-0909-40dc-f9c0-ca6ab253b754"
      },
      "execution_count": 10,
      "outputs": [
        {
          "output_type": "execute_result",
          "data": {
            "text/plain": [
              "array([[[110],\n",
              "        [125],\n",
              "        [133]],\n",
              "\n",
              "       [[125],\n",
              "        [133],\n",
              "        [146]],\n",
              "\n",
              "       [[133],\n",
              "        [146],\n",
              "        [158]],\n",
              "\n",
              "       [[146],\n",
              "        [158],\n",
              "        [172]],\n",
              "\n",
              "       [[158],\n",
              "        [172],\n",
              "        [187]],\n",
              "\n",
              "       [[172],\n",
              "        [187],\n",
              "        [196]]])"
            ]
          },
          "metadata": {},
          "execution_count": 10
        }
      ]
    },
    {
      "cell_type": "code",
      "source": [
        "model=Sequential()\n",
        "model.add(LSTM(50,activation='relu',return_sequences=True,input_shape=(n_steps,n_features)))\n",
        "model.add(LSTM(50,activation='relu'))\n",
        "model.add(Dense(1))\n",
        "model.compile(optimizer='adam',loss='mse')\n",
        "\n",
        "model.fit(X,y,epochs=300,verbose=0)"
      ],
      "metadata": {
        "colab": {
          "base_uri": "https://localhost:8080/"
        },
        "id": "HUGUfyyq1TTS",
        "outputId": "50f00c89-f2d6-4c57-b106-21e8b49054d7"
      },
      "execution_count": 14,
      "outputs": [
        {
          "output_type": "execute_result",
          "data": {
            "text/plain": [
              "<keras.callbacks.History at 0x7fbce9014ed0>"
            ]
          },
          "metadata": {},
          "execution_count": 14
        }
      ]
    },
    {
      "cell_type": "code",
      "source": [
        "x_input = np.array([187, 196, 210])\n",
        "temp_input = list(x_input)\n",
        "lst_output = []\n",
        "i = 0\n",
        "while(i<10):\n",
        "    if (len(temp_input) > 3):\n",
        "        x_input = np.array(temp_input[1:])\n",
        "        # print(x_input)\n",
        "        print(\"{} day input: {}\".format(i, x_input))\n",
        "        x_input = x_input.reshape((1, n_steps, n_features))\n",
        "        yhat = model.predict(x_input, verbose=0)\n",
        "        print(\"{} day output: {}\".format(i, yhat[0][0]))\n",
        "        print()\n",
        "        temp_input.append(yhat[0][0])\n",
        "        temp_input = temp_input[1:]\n",
        "        # print(temp_input)\n",
        "        lst_output.append(yhat[0][0])\n",
        "        i = i + 1\n",
        "    else:\n",
        "        x_input = x_input.reshape((1, n_steps, n_features))\n",
        "        yhat = model.predict(x_input, verbose=0)\n",
        "        # print(yhat.shape)\n",
        "        # print(yhat[0][0])\n",
        "        temp_input.append(yhat[0][0])\n",
        "        lst_output.append(yhat[0][0])\n",
        "        i = i + 1"
      ],
      "metadata": {
        "colab": {
          "base_uri": "https://localhost:8080/"
        },
        "id": "2L5xm8N31jVS",
        "outputId": "13faf758-2656-4417-bc3d-a1d905b4962f"
      },
      "execution_count": 15,
      "outputs": [
        {
          "output_type": "stream",
          "name": "stdout",
          "text": [
            "1 day input: [196.         210.         226.35855103]\n",
            "1 day output: 237.9235076904297\n",
            "\n",
            "2 day input: [210.         226.35855103 237.92350769]\n",
            "2 day output: 253.02464294433594\n",
            "\n",
            "3 day input: [226.35855 237.92351 253.02464]\n",
            "3 day output: 269.2685852050781\n",
            "\n",
            "4 day input: [237.92351 253.02464 269.2686 ]\n",
            "4 day output: 283.2525329589844\n",
            "\n",
            "5 day input: [253.02464 269.2686  283.25253]\n",
            "5 day output: 299.7648620605469\n",
            "\n",
            "6 day input: [269.2686  283.25253 299.76486]\n",
            "6 day output: 316.9514465332031\n",
            "\n",
            "7 day input: [283.25253 299.76486 316.95145]\n",
            "7 day output: 333.4373474121094\n",
            "\n",
            "8 day input: [299.76486 316.95145 333.43735]\n",
            "8 day output: 351.81329345703125\n",
            "\n",
            "9 day input: [316.95145 333.43735 351.8133 ]\n",
            "9 day output: 370.8123474121094\n",
            "\n"
          ]
        }
      ]
    },
    {
      "cell_type": "code",
      "source": [
        "import matplotlib.pyplot as plt "
      ],
      "metadata": {
        "id": "Gdm5Of-y2MPj"
      },
      "execution_count": 16,
      "outputs": []
    },
    {
      "cell_type": "code",
      "source": [
        "timeseries_data"
      ],
      "metadata": {
        "colab": {
          "base_uri": "https://localhost:8080/"
        },
        "id": "xTuo9St42Sfy",
        "outputId": "a45f45a5-aa98-4ddf-b6ed-52c3d6476412"
      },
      "execution_count": 17,
      "outputs": [
        {
          "output_type": "execute_result",
          "data": {
            "text/plain": [
              "[110, 125, 133, 146, 158, 172, 187, 196, 210]"
            ]
          },
          "metadata": {},
          "execution_count": 17
        }
      ]
    },
    {
      "cell_type": "code",
      "source": [
        "day_new = np.arange(1, 10)\n",
        "day_pred = np.arange(10, 20)"
      ],
      "metadata": {
        "id": "yVVhMa-h2WHm"
      },
      "execution_count": 18,
      "outputs": []
    },
    {
      "cell_type": "code",
      "source": [
        "plt.plot(day_new, timeseries_data)\n",
        "plt.plot(day_pred, lst_output)"
      ],
      "metadata": {
        "colab": {
          "base_uri": "https://localhost:8080/",
          "height": 282
        },
        "id": "Dy4uQ_WQ2WaF",
        "outputId": "faf72747-7147-47ad-852a-3474fa6921d0"
      },
      "execution_count": 19,
      "outputs": [
        {
          "output_type": "execute_result",
          "data": {
            "text/plain": [
              "[<matplotlib.lines.Line2D at 0x7fbced915150>]"
            ]
          },
          "metadata": {},
          "execution_count": 19
        },
        {
          "output_type": "display_data",
          "data": {
            "text/plain": [
              "<Figure size 432x288 with 1 Axes>"
            ],
            "image/png": "[encoded data removed]"
          },
          "metadata": {
            "needs_background": "light"
          }
        }
      ]
    },
    {
      "cell_type": "code",
      "source": [
        ""
      ],
      "metadata": {
        "id": "EZV0bfOP2YAR"
      },
      "execution_count": null,
      "outputs": []
    }
  ]
}